{
 "cells": [
  {
   "cell_type": "markdown",
   "metadata": {},
   "source": [
    "# Minicurso Análisis de Datos usando Python\n",
    "## Parte 6 - Conclusiones y pasos a futuro"
   ]
  },
  {
   "cell_type": "markdown",
   "metadata": {
    "collapsed": true
   },
   "source": [
    "### Conclusiones\n",
    "\n",
    "- El análisis de datos implica muchos pasos / tareas y puede volverse inviable si se realiza de manera superficial y con poca productividad.\n",
    "- Herramientas sencillas, interactivas y potentes que nos brindan una gran productividad y grandes responsabilidades.\n",
    "- El análisis de datos puede ser divertido y emocionante.\n",
    "- Pequeños pasos"
   ]
  },
  {
   "cell_type": "markdown",
   "metadata": {},
   "source": [
    "### Evaluación\n",
    "- ¿Cómo valora el curso?\n",
    "   - ¿Qué te pareció genial?\n",
    "   - ¿Qué crees que podría haber sido mejor?"
   ]
  },
  {
   "cell_type": "markdown",
   "metadata": {
    "collapsed": true
   },
   "source": [
    "### ¿Y qué hacer a partir de ahora?\n",
    "\n",
    "- Profundizar en el estudio y la práctica.\n",
    "- Participa en competencias como Kaggle, KDD Cup, etc.\n",
    "- Participa en grupos de estudio de Data Science.\n",
    "   - Teoría\n",
    "   - Práctica\n",
    "     - Competiciones\n",
    "     - Experimentos científicos\n"
   ]
  },
  {
   "cell_type": "code",
   "execution_count": null,
   "metadata": {
    "collapsed": true
   },
   "outputs": [],
   "source": []
  }
 ],
 "metadata": {
  "anaconda-cloud": {},
  "kernelspec": {
   "display_name": "Python 3",
   "language": "python",
   "name": "python3"
  },
  "language_info": {
   "codemirror_mode": {
    "name": "ipython",
    "version": 3
   },
   "file_extension": ".py",
   "mimetype": "text/x-python",
   "name": "python",
   "nbconvert_exporter": "python",
   "pygments_lexer": "ipython3",
   "version": "3.8.8"
  }
 },
 "nbformat": 4,
 "nbformat_minor": 1
}
