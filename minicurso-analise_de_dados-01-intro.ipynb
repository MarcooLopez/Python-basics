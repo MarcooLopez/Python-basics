{
 "cells": [
  {
   "cell_type": "markdown",
   "metadata": {},
   "source": [
    "<h1 style=\"font-size=20pt;color:orange\">Minicurso Analisis de Datos usando Python"
   ]
  },
  {
   "cell_type": "markdown",
   "metadata": {},
   "source": [
    "## Parte 1 - Introduccion"
   ]
  },
  {
   "cell_type": "markdown",
   "metadata": {},
   "source": [
    "### Objetivos\n",
    "\n",
    "- Limpar los datos desorganizados, descubrir patrones, hacer predicciones utilizando aprendizaje de máquina, e comunicar claramente los descubrimientos."
   ]
  },
  {
   "cell_type": "markdown",
   "metadata": {},
   "source": [
    "### Organizacion del Minicurso\n",
    "\n",
    "#### Parte 1 - Introduccion\n",
    "- Ciencia de Datos\n",
    "- Instalacion de Ambiente\n",
    "- Jupyter Notebooks\n",
    "\n",
    "#### Parte 2 - Python Básico\n",
    "\n",
    "#### Parte 3 - Bibliotecas Python para Manipulacion de Datos\n",
    "\n",
    "#### Parte 4 - Análisis de Datos\n",
    "- Obtencion de Datos\n",
    "- Análisis Exploratorio de Datos\n",
    "- Manipulacion y Limpieza de Datos\n",
    "- Visualizacion de Datos\n",
    "\n",
    "#### Parte 5 - Aprendizaje de Máquina\n",
    "- Introducion al Aprendizaje de Máquina usando Python\n",
    "\n",
    "#### Parte 6 - Conclusiones\n",
    "- Conclusiones y Pasos Futuros\n"
   ]
  },
  {
   "cell_type": "markdown",
   "metadata": {},
   "source": [
    "### Ciencia de Datos\n",
    "\n",
    "La ciencia de datos cuenta con herramientas para analizar estos datos y, de ellos, extraer conocimientos esenciales para los procesos de toma de decisiones en los más diversos contextos, tales como:\n",
    "\n",
    "- estrategias logísticas\n",
    "- mejora del tráfico urbano\n",
    "- control de inventario de productos\n",
    "- asignación de tareas a los empleados\n",
    "- mejorar el rendimiento de estudiantes, deportistas y vendedores\n",
    "- reducción de costos\n",
    "- detección de fraude\n",
    "- ...\n",
    "\n",
    "** De esta manera, el uso de técnicas de análisis de datos y aprendizaje automático puede conducir a un uso mucho más eficiente de los recursos. ** \n"
   ]
  },
  {
   "cell_type": "markdown",
   "metadata": {},
   "source": [
    "#### Motivaciones\n",
    "\n",
    "- Más barato y popularización de dispositivos móviles y los más diversos tipos de sensores para la recolección de datos.\n",
    "- Mayor poder de procesamiento y almacenamiento de computadoras.\n",
    "- Optimización de recursos en un mercado global cada vez más competitivo.\n",
    "- Madurez, mejora y difusión de técnicas de aprendizaje automático. "
   ]
  },
  {
   "cell_type": "markdown",
   "metadata": {},
   "source": [
    "### Seis pasos importantes de un proyecto de aprendizaje automático\n",
    "\n",
    "\n",
    "1. Definición del problema\n",
    "2. Análisis de datos exploratorios\n",
    "    - Uso de estadísticas descriptivas y visualización para comprender mejor los datos disponibles.\n",
    "3. Prepare los datos\n",
    "    - Transformar los datos para que sean más fáciles de usar mediante algoritmos de minería de datos / aprendizaje automático.\n",
    "4. Evaluar algoritmos\n",
    "    - Evaluar los algoritmos de aprendizaje automático más adecuados para resolver el problema inicialmente propuesto.\n",
    "5. Mejorar los resultados\n",
    "    - Ajuste de algoritmos y métodos para mejorar los resultados.\n",
    "6. Presentar los resultados "
   ]
  },
  {
   "cell_type": "markdown",
   "metadata": {},
   "source": [
    "### Bibliografia\n",
    "\n",
    "#### Analisis de Datos usando Python\n",
    "\n",
    "- Grus, Joel. **Data Science from Scratch: First Principles with Python**. O'Reilly Media. 1ª Ed., 2015.\n",
    "\n",
    "- McKinney, Wes. **Python for Data Analysis: Data Wrangling with Pandas, NumPy, and IPython**. O'Reilly Media. 1ª Ed., 2012.\n",
    "\n",
    "- Brownlee, Jason. **Machine Learning Mastery with Python: Understand Your Data, Create Accurate Models and Work Projects End-To-End**. [Ebook](https://machinelearningmastery.com/machine-learning-with-python/). 1ª Ed., 2016. \n",
    "\n",
    "#### Aprendizaje de Máquina usando Python\n",
    "\n",
    "- Raschka, Sebastian. **Python Machine Learning**. Packt Publishing. 1ª Ed., 2015. \n",
    "\n",
    "- Richert, Willi; Coelho, Luis Pedro. **Building Machine Learning Systems with Python**. Packt Publishing. 1ª Ed., 2013.\n",
    "\n",
    "\n",
    "#### Ciencia de Datos\n",
    "\n",
    "- Foreman, John W. **Data Smart: Using Data Science to Transform Information into Insight**. Wiley. 1ª Ed., 2013.\n",
    "\n",
    "- Provost, Foster; Fawcett, Tom. **Data Science for Business: What You Need to Know about Data Mining and Data-Analytic Thinking**. O'Reilly Media. 1ª Ed., 2013.\n",
    "\n",
    "\n",
    "#### Aprendizado de Máquina \n",
    "\n",
    "- James, Gareth; Witten, Daniela; Hastie, Trevor; Tibshirani, Robert. **An Introduction to Statistical Learning: with Applications in R**. Springer. 1ª Ed., 2013.\n",
    "\n",
    "- Hastie, Trevor; Tibshirani, Robert; Friedman, Jerome. **The Elements of Statistical Learning: Data Mining, Inference, and Prediction. Springer**. 2ª Ed., 2009.\n",
    "\n",
    "- Pinheiro, Carlos André Reis.  **Inteligência Analítica: Mineração de Dados e Descoberta de Conhecimento**. Ciência Moderna, 1ª Ed., 2008.\n",
    "\n",
    "- Siegel, Eric. **Predictive Analytics: The Power to Predict Who Will Click, Buy, Lie, or Die**. Wiley. 2ª Ed., 2016.\n",
    "\n",
    "- Tan, Pang-Ning; Steinbach, Michael; Kumar, Vipin. **Introdução ao Data Mining - Mineração de Dados**. Ciência Moderna, 1ª Ed., 2012.\n",
    "\n",
    "- Witten, Ian H.; Frank, Eibe; Hall, Mark A. **Data Mining: Practical Machine Learning Tools and Techniques**. The Morgan Kaufmann Series in Data Management Systems. Morgan Kaufmann, 3ª Ed., 2011. \n",
    "\n",
    "- Zaki, M. J.; Meira Jr., W. **Data Mining and Analysis: Fundamental Concepts and Algorithms**. Cambridge University Press. 1ª Ed., 2014.\n"
   ]
  },
  {
   "cell_type": "markdown",
   "metadata": {},
   "source": [
    "## Integrated Development Environments (IDE)"
   ]
  },
  {
   "cell_type": "markdown",
   "metadata": {},
   "source": [
    "### VS Code"
   ]
  },
  {
   "cell_type": "markdown",
   "metadata": {},
   "source": [
    "<img src='https://datasets-humai.s3.amazonaws.com/images/IDE.png'></img>"
   ]
  },
  {
   "cell_type": "markdown",
   "metadata": {},
   "source": [
    "### Pycharm"
   ]
  },
  {
   "cell_type": "markdown",
   "metadata": {},
   "source": [
    "<img src='https://datasets-humai.s3.amazonaws.com/images/Pycharm.png'></img>"
   ]
  },
  {
   "cell_type": "markdown",
   "metadata": {},
   "source": [
    "### Spyder"
   ]
  },
  {
   "cell_type": "markdown",
   "metadata": {},
   "source": [
    "<img src='https://datasets-humai.s3.amazonaws.com/images/spyder.png'></img>"
   ]
  },
  {
   "cell_type": "markdown",
   "metadata": {},
   "source": [
    "### Anaconda plataforma (> 400 MB) \n",
    "\n",
    "- Preferir Python 3\n",
    "- Instalacion desde el sitio web: https://www.anaconda.com/products/individual\n",
    "- Mas informacion sobre instalacion de Anaconda: https://www.datacamp.com/community/tutorials/installing-anaconda-mac-os-x\n"
   ]
  },
  {
   "cell_type": "markdown",
   "metadata": {},
   "source": [
    "### Jupyter Notebook\n",
    "\n",
    "Entorno web simple y con todas las funciones para tratar interactivamente con Python y otros lenguajes.\n",
    "\n",
    "- Se installa con Anaconda\n",
    "\n",
    "- Jupyter en línea\n",
    "    - https://try.jupyter.org\n",
    "- Ejecución\n",
    "    - `jupyter notebook # puerto predeterminado: 8888`\n",
    "- Conceptos básicos\n",
    "    - Núcleos (Kernels)\n",
    "        - Interrumpir\n",
    "        - Reanudar\n",
    "        - Reconectar\n",
    "    - Células\n",
    "        - Tipos\n",
    "            - [Markdown] (https://github.com/adam-p/markdown-here/wiki/Markdown-Cheatsheet) (`<m>`)\n",
    "            - Código (`<y>`)\n",
    "        - Modos\n",
    "            - Comando (azul, `<Esc>`)\n",
    "            - Edición (verde, `<Entrar>`)\n",
    "                - Autocompletar (`<Tab>`)\n",
    "                - Documentación (`<Mayús> + <Tab>`)\n",
    "            - Atajos de teclado\n",
    "        - Ejecución (`<Mayús> + <Entrar>`)\n",
    "            - Bola abierta / cerrada en la esquina superior derecha\n",
    "            - Corriendo\n",
    "            - Apagado / Detención\n",
    "    - Magia de línea\n",
    "        - `% lsmagic`\n",
    "        - `%` - línea única\n",
    "        - `%%` - multilínea\n",
    "        - `!` - ejecutar comandos de shell\n",
    "        - `$$ ... $$` - Ecuación LaTeX\n",
    "    - Terminales\n",
    "    - Clústeres\n",
    "- Manipulación de archivos / directorios\n",
    "    - Copiar\n",
    "    - Cambiar nombre\n",
    "    - Mover\n",
    "    - Autoguardado\n",
    "    - Puesto de control\n",
    "- Autenticación sin usuarios\n",
    "- Limitaciones\n",
    "    - Acceso concurrente a un cuaderno\n",
    "    - Control de usuarios y permisos\n",
    "    - La lista de notebooks en ejecución debe tener el consumo de memoria para cada notebook.\n",
    "    - Python es lento. Integración del uso de soluciones (** Wrappers **) con C, C ++ y Java.\n",
    "        - cython\n",
    "        - Varias bibliotecas que usaremos ya hacen esto para obtener lo mejor de 2 mundos:\n",
    "            - Simplicidad de Python\n",
    "            - Rendimiento de C, C ++, Java "
   ]
  },
  {
   "cell_type": "markdown",
   "metadata": {},
   "source": [
    "### Jupyter basicos"
   ]
  },
  {
   "cell_type": "markdown",
   "metadata": {},
   "source": [
    "#### Markdown\n",
    "```latex\n",
    "$ c = \\sqrt{a^2 + b^2} $\n",
    "```"
   ]
  },
  {
   "cell_type": "markdown",
   "metadata": {},
   "source": [
    "$ c = \\sqrt{a^2 + b^2} $"
   ]
  },
  {
   "cell_type": "markdown",
   "metadata": {},
   "source": [
    "#### Código"
   ]
  },
  {
   "cell_type": "code",
   "execution_count": 8,
   "metadata": {},
   "outputs": [
    {
     "data": {
      "text/latex": [
       "$c = \\sqrt{a^2 + b^2}$\n"
      ],
      "text/plain": [
       "<IPython.core.display.Latex object>"
      ]
     },
     "metadata": {},
     "output_type": "display_data"
    }
   ],
   "source": [
    "%%latex\n",
    "$c = \\sqrt{a^2 + b^2}$"
   ]
  },
  {
   "cell_type": "markdown",
   "metadata": {},
   "source": [
    "#### Memória usada por Notebook"
   ]
  },
  {
   "cell_type": "code",
   "execution_count": 9,
   "metadata": {},
   "outputs": [
    {
     "name": "stdout",
     "output_type": "stream",
     "text": [
      "Memoria usada: 46100.0 MB\n"
     ]
    }
   ],
   "source": [
    "import resource\n",
    "mem = resource.getrusage(resource.RUSAGE_SELF).ru_maxrss / 1024.0\n",
    "print('Memoria usada: {} MB'.format(mem))"
   ]
  },
  {
   "cell_type": "markdown",
   "metadata": {
    "collapsed": true
   },
   "source": [
    "#### Imprimir a console / terminal donde Jupyter se está executando"
   ]
  },
  {
   "cell_type": "code",
   "execution_count": 10,
   "metadata": {},
   "outputs": [
    {
     "data": {
      "text/plain": [
       "5"
      ]
     },
     "execution_count": 10,
     "metadata": {},
     "output_type": "execute_result"
    }
   ],
   "source": [
    "import sys\n",
    "sys.__stdout__.write(\"test\\n\")\n",
    "# No olvidar el '\\n'!!!"
   ]
  },
  {
   "cell_type": "markdown",
   "metadata": {
    "collapsed": true
   },
   "source": [
    "#### Jupyter Paths"
   ]
  },
  {
   "cell_type": "code",
   "execution_count": 11,
   "metadata": {},
   "outputs": [
    {
     "name": "stdout",
     "output_type": "stream",
     "text": [
      "config:\r\n",
      "    /Users/marcolopez/.jupyter\r\n",
      "    /Users/marcolopez/opt/anaconda3/etc/jupyter\r\n",
      "    /usr/local/etc/jupyter\r\n",
      "    /etc/jupyter\r\n",
      "data:\r\n",
      "    /Users/marcolopez/Library/Jupyter\r\n",
      "    /Users/marcolopez/opt/anaconda3/share/jupyter\r\n",
      "    /usr/local/share/jupyter\r\n",
      "    /usr/share/jupyter\r\n",
      "runtime:\r\n",
      "    /Users/marcolopez/Library/Jupyter/runtime\r\n"
     ]
    }
   ],
   "source": [
    "!jupyter --paths"
   ]
  },
  {
   "cell_type": "markdown",
   "metadata": {},
   "source": [
    "#### Como listar los kernels actualmente instalados?"
   ]
  },
  {
   "cell_type": "code",
   "execution_count": 12,
   "metadata": {},
   "outputs": [
    {
     "name": "stdout",
     "output_type": "stream",
     "text": [
      "Available kernels:\r\n",
      "  python3    /Users/marcolopez/opt/anaconda3/share/jupyter/kernels/python3\r\n"
     ]
    }
   ],
   "source": [
    "!jupyter kernelspec list"
   ]
  }
 ],
 "metadata": {
  "anaconda-cloud": {},
  "kernelspec": {
   "display_name": "Python 3",
   "language": "python",
   "name": "python3"
  },
  "language_info": {
   "codemirror_mode": {
    "name": "ipython",
    "version": 3
   },
   "file_extension": ".py",
   "mimetype": "text/x-python",
   "name": "python",
   "nbconvert_exporter": "python",
   "pygments_lexer": "ipython3",
   "version": "3.8.8"
  }
 },
 "nbformat": 4,
 "nbformat_minor": 1
}
